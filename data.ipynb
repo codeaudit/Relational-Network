{
 "cells": [
  {
   "cell_type": "code",
   "execution_count": 1,
   "metadata": {
    "collapsed": true
   },
   "outputs": [],
   "source": [
    "from not_so_clevr_data import NSCData\n",
    "import torch\n",
    "from torch.autograd import Variable\n",
    "import torch.nn as nn"
   ]
  },
  {
   "cell_type": "code",
   "execution_count": 2,
   "metadata": {
    "collapsed": false
   },
   "outputs": [],
   "source": [
    "data_gen = NSCData()\n",
    "relation_train, relation_test = data_gen.get_data()"
   ]
  },
  {
   "cell_type": "code",
   "execution_count": 3,
   "metadata": {
    "collapsed": false
   },
   "outputs": [],
   "source": [
    "batch_size = 64\n",
    "input_img = torch.FloatTensor(batch_size, 3, 75, 75)\n",
    "input_qst = torch.FloatTensor(batch_size, 11)\n",
    "label = torch.LongTensor(batch_size)\n",
    "\n",
    "input_img = Variable(input_img)\n",
    "input_qst = Variable(input_qst)\n",
    "label = Variable(label)"
   ]
  },
  {
   "cell_type": "code",
   "execution_count": 4,
   "metadata": {
    "collapsed": true
   },
   "outputs": [],
   "source": [
    "def tensor_data(data, i):\n",
    "    img = torch.from_numpy(np.asarray(data[0][batch_size * i : batch_size * (i+1)]))\n",
    "    qst = torch.from_numpy(np.asarray(data[1][batch_size * i : batch_size * (i+1)]))\n",
    "    ans = torch.from_numpy(np.asarray(data[2][batch_size * i : batch_size * (i+1)]))\n",
    "\n",
    "    input_img.data.resize_(img.size()).copy_(img)\n",
    "    input_qst.data.resize_(qst.size()).copy_(qst)\n",
    "    label.data.resize_(ans.size()).copy_(ans)"
   ]
  },
  {
   "cell_type": "code",
   "execution_count": 17,
   "metadata": {
    "collapsed": true
   },
   "outputs": [],
   "source": [
    "def check_data(data):\n",
    "    assert len(data) == 3\n",
    "    print(len(data[0]), len(data[1]), len(data[2]))\n",
    "    print(data[0][0].shape)\n",
    "    print(data[1][0].shape)\n",
    "    print(data[2][0])"
   ]
  },
  {
   "cell_type": "code",
   "execution_count": 18,
   "metadata": {
    "collapsed": false
   },
   "outputs": [
    {
     "name": "stdout",
     "output_type": "stream",
     "text": [
      "98000 98000 98000\n",
      "(3, 75, 75)\n",
      "(11,)\n",
      "3\n"
     ]
    }
   ],
   "source": [
    "check_data(relation_train)"
   ]
  },
  {
   "cell_type": "markdown",
   "metadata": {},
   "source": [
    "1. Data-generator class, no more data processing outside the class -> DONE\n",
    "2. Model class -> Semi-done\n",
    "3. Trainer class -> "
   ]
  }
 ],
 "metadata": {
  "kernelspec": {
   "display_name": "Python 3",
   "language": "python",
   "name": "python3"
  },
  "language_info": {
   "codemirror_mode": {
    "name": "ipython",
    "version": 3
   },
   "file_extension": ".py",
   "mimetype": "text/x-python",
   "name": "python",
   "nbconvert_exporter": "python",
   "pygments_lexer": "ipython3",
   "version": "3.6.0"
  }
 },
 "nbformat": 4,
 "nbformat_minor": 2
}
