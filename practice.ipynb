{
 "cells": [
  {
   "cell_type": "code",
   "execution_count": 1,
   "metadata": {
    "collapsed": true
   },
   "outputs": [],
   "source": [
    "from relational_net import RN\n",
    "from not_so_clevr_data import NSCData\n",
    "from trainer import Trainer\n",
    "import torch.multiprocessing as mp\n",
    "import numpy as np\n",
    "import torch"
   ]
  },
  {
   "cell_type": "code",
   "execution_count": 2,
   "metadata": {
    "collapsed": false
   },
   "outputs": [],
   "source": [
    "# Data\n",
    "data_gen = NSCData()\n",
    "relation_train, relation_test = data_gen.get_data()\n",
    "\n",
    "# Model\n",
    "model = RN()\n",
    "model.share_memory()\n",
    "\n",
    "# Trainer\n",
    "trainer = Trainer()"
   ]
  },
  {
   "cell_type": "code",
   "execution_count": 3,
   "metadata": {
    "collapsed": false,
    "scrolled": true
   },
   "outputs": [
    {
     "name": "stdout",
     "output_type": "stream",
     "text": [
      "98000 98000 98000\n",
      "(3, 75, 75)\n",
      "(11,)\n",
      "3\n"
     ]
    }
   ],
   "source": [
    "trainer.check_data(relation_train)"
   ]
  },
  {
   "cell_type": "code",
   "execution_count": null,
   "metadata": {
    "collapsed": false
   },
   "outputs": [
    {
     "name": "stdout",
     "output_type": "stream",
     "text": [
      "Epoch 0/10 Batch 0/1531.25 Accuracy 3%\n",
      "Epoch 0/10 Batch 0/1531.25 Accuracy 9%\n",
      "Epoch 0/10 Batch 500/1531.25 Accuracy 59%\n",
      "Epoch 0/10 Batch 500/1531.25 Accuracy 59%\n"
     ]
    }
   ],
   "source": [
    "processes = []\n",
    "num_processes = 2\n",
    "epochs = 10\n",
    "\n",
    "for rank in range(num_processes):\n",
    "    p = mp.Process(target=trainer.train, args=(rank, model, relation_train, epochs))\n",
    "    p.start()\n",
    "    processes.append(p)\n",
    "for p in processes:\n",
    "    p.join()"
   ]
  },
  {
   "cell_type": "code",
   "execution_count": null,
   "metadata": {
    "collapsed": true
   },
   "outputs": [],
   "source": []
  }
 ],
 "metadata": {
  "kernelspec": {
   "display_name": "Python 3",
   "language": "python",
   "name": "python3"
  },
  "language_info": {
   "codemirror_mode": {
    "name": "ipython",
    "version": 3
   },
   "file_extension": ".py",
   "mimetype": "text/x-python",
   "name": "python",
   "nbconvert_exporter": "python",
   "pygments_lexer": "ipython3",
   "version": "3.6.0"
  }
 },
 "nbformat": 4,
 "nbformat_minor": 2
}
